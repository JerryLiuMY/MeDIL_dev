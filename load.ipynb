{
 "cells": [
  {
   "cell_type": "code",
   "execution_count": 1,
   "id": "0cc0806b",
   "metadata": {},
   "outputs": [],
   "source": [
    "import numpy as np\n",
    "import random\n",
    "from medil.functional_MCM import rand_biadj_mat"
   ]
  },
  {
   "cell_type": "code",
   "execution_count": 2,
   "id": "64e6e825",
   "metadata": {
    "scrolled": true
   },
   "outputs": [
    {
     "name": "stdout",
     "output_type": "stream",
     "text": [
      "Generating sample with idx=0, num_obs=10, and edge_prob=0.1\n",
      "Generating sample with idx=0, num_obs=10, and edge_prob=0.2\n",
      "Generating sample with idx=0, num_obs=10, and edge_prob=0.3\n",
      "Generating sample with idx=0, num_obs=10, and edge_prob=0.4\n",
      "Generating sample with idx=0, num_obs=10, and edge_prob=0.5\n",
      "Generating sample with idx=0, num_obs=10, and edge_prob=0.6\n",
      "Generating sample with idx=0, num_obs=10, and edge_prob=0.7\n",
      "Generating sample with idx=0, num_obs=10, and edge_prob=0.8\n",
      "Generating sample with idx=0, num_obs=10, and edge_prob=0.9\n",
      "Generating sample with idx=1, num_obs=10, and edge_prob=0.1\n",
      "Generating sample with idx=1, num_obs=10, and edge_prob=0.2\n",
      "Generating sample with idx=1, num_obs=10, and edge_prob=0.3\n",
      "Generating sample with idx=1, num_obs=10, and edge_prob=0.4\n",
      "Generating sample with idx=1, num_obs=10, and edge_prob=0.5\n",
      "Generating sample with idx=1, num_obs=10, and edge_prob=0.6\n",
      "Generating sample with idx=1, num_obs=10, and edge_prob=0.7\n",
      "Generating sample with idx=1, num_obs=10, and edge_prob=0.8\n",
      "Generating sample with idx=1, num_obs=10, and edge_prob=0.9\n",
      "Generating sample with idx=2, num_obs=10, and edge_prob=0.1\n",
      "Generating sample with idx=2, num_obs=10, and edge_prob=0.2\n",
      "Generating sample with idx=2, num_obs=10, and edge_prob=0.3\n",
      "Generating sample with idx=2, num_obs=10, and edge_prob=0.4\n",
      "Generating sample with idx=2, num_obs=10, and edge_prob=0.5\n",
      "Generating sample with idx=2, num_obs=10, and edge_prob=0.6\n",
      "Generating sample with idx=2, num_obs=10, and edge_prob=0.7\n",
      "Generating sample with idx=2, num_obs=10, and edge_prob=0.8\n",
      "Generating sample with idx=2, num_obs=10, and edge_prob=0.9\n",
      "Generating sample with idx=3, num_obs=10, and edge_prob=0.1\n",
      "Generating sample with idx=3, num_obs=10, and edge_prob=0.2\n",
      "Generating sample with idx=3, num_obs=10, and edge_prob=0.3\n",
      "Generating sample with idx=3, num_obs=10, and edge_prob=0.4\n",
      "Generating sample with idx=3, num_obs=10, and edge_prob=0.5\n",
      "Generating sample with idx=3, num_obs=10, and edge_prob=0.6\n",
      "Generating sample with idx=3, num_obs=10, and edge_prob=0.7\n",
      "Generating sample with idx=3, num_obs=10, and edge_prob=0.8\n",
      "Generating sample with idx=3, num_obs=10, and edge_prob=0.9\n",
      "Generating sample with idx=4, num_obs=10, and edge_prob=0.1\n",
      "Generating sample with idx=4, num_obs=10, and edge_prob=0.2\n",
      "Generating sample with idx=4, num_obs=10, and edge_prob=0.3\n",
      "Generating sample with idx=4, num_obs=10, and edge_prob=0.4\n",
      "Generating sample with idx=4, num_obs=10, and edge_prob=0.5\n",
      "Generating sample with idx=4, num_obs=10, and edge_prob=0.6\n",
      "Generating sample with idx=4, num_obs=10, and edge_prob=0.7\n",
      "Generating sample with idx=4, num_obs=10, and edge_prob=0.8\n",
      "Generating sample with idx=4, num_obs=10, and edge_prob=0.9\n",
      "Generating sample with idx=5, num_obs=10, and edge_prob=0.1\n",
      "Generating sample with idx=5, num_obs=10, and edge_prob=0.2\n",
      "Generating sample with idx=5, num_obs=10, and edge_prob=0.3\n",
      "Generating sample with idx=5, num_obs=10, and edge_prob=0.4\n",
      "Generating sample with idx=5, num_obs=10, and edge_prob=0.5\n",
      "Generating sample with idx=5, num_obs=10, and edge_prob=0.6\n",
      "Generating sample with idx=5, num_obs=10, and edge_prob=0.7\n",
      "Generating sample with idx=5, num_obs=10, and edge_prob=0.8\n",
      "Generating sample with idx=5, num_obs=10, and edge_prob=0.9\n",
      "Generating sample with idx=6, num_obs=10, and edge_prob=0.1\n",
      "Generating sample with idx=6, num_obs=10, and edge_prob=0.2\n",
      "Generating sample with idx=6, num_obs=10, and edge_prob=0.3\n",
      "Generating sample with idx=6, num_obs=10, and edge_prob=0.4\n",
      "Generating sample with idx=6, num_obs=10, and edge_prob=0.5\n",
      "Generating sample with idx=6, num_obs=10, and edge_prob=0.6\n",
      "Generating sample with idx=6, num_obs=10, and edge_prob=0.7\n",
      "Generating sample with idx=6, num_obs=10, and edge_prob=0.8\n",
      "Generating sample with idx=6, num_obs=10, and edge_prob=0.9\n",
      "Generating sample with idx=7, num_obs=10, and edge_prob=0.1\n",
      "Generating sample with idx=7, num_obs=10, and edge_prob=0.2\n",
      "Generating sample with idx=7, num_obs=10, and edge_prob=0.3\n",
      "Generating sample with idx=7, num_obs=10, and edge_prob=0.4\n",
      "Generating sample with idx=7, num_obs=10, and edge_prob=0.5\n",
      "Generating sample with idx=7, num_obs=10, and edge_prob=0.6\n",
      "Generating sample with idx=7, num_obs=10, and edge_prob=0.7\n",
      "Generating sample with idx=7, num_obs=10, and edge_prob=0.8\n",
      "Generating sample with idx=7, num_obs=10, and edge_prob=0.9\n",
      "Generating sample with idx=8, num_obs=10, and edge_prob=0.1\n",
      "Generating sample with idx=8, num_obs=10, and edge_prob=0.2\n",
      "Generating sample with idx=8, num_obs=10, and edge_prob=0.3\n",
      "Generating sample with idx=8, num_obs=10, and edge_prob=0.4\n",
      "Generating sample with idx=8, num_obs=10, and edge_prob=0.5\n",
      "Generating sample with idx=8, num_obs=10, and edge_prob=0.6\n",
      "Generating sample with idx=8, num_obs=10, and edge_prob=0.7\n",
      "Generating sample with idx=8, num_obs=10, and edge_prob=0.8\n",
      "Generating sample with idx=8, num_obs=10, and edge_prob=0.9\n",
      "Generating sample with idx=9, num_obs=10, and edge_prob=0.1\n",
      "Generating sample with idx=9, num_obs=10, and edge_prob=0.2\n",
      "Generating sample with idx=9, num_obs=10, and edge_prob=0.3\n",
      "Generating sample with idx=9, num_obs=10, and edge_prob=0.4\n",
      "Generating sample with idx=9, num_obs=10, and edge_prob=0.5\n",
      "Generating sample with idx=9, num_obs=10, and edge_prob=0.6\n",
      "Generating sample with idx=9, num_obs=10, and edge_prob=0.7\n",
      "Generating sample with idx=9, num_obs=10, and edge_prob=0.8\n",
      "Generating sample with idx=9, num_obs=10, and edge_prob=0.9\n"
     ]
    }
   ],
   "source": [
    "# random graph\n",
    "num_runs = 10\n",
    "num_obs = 10\n",
    "edge_prob_list = np.round(np.arange(0.1, 0.91, 0.1), 2)\n",
    "rand_biadj_mat_list = {}\n",
    "\n",
    "for idx in range(num_runs):\n",
    "    for p in edge_prob_list:\n",
    "        print(f\"Generating sample with idx={idx}, num_obs={num_obs}, and edge_prob={p}\")\n",
    "        random.seed(idx)\n",
    "        rand_biadj_mat_list[f\"{idx}_{num_obs}_{p}\"] = rand_biadj_mat(num_obs=num_obs, edge_prob=p)"
   ]
  },
  {
   "cell_type": "code",
   "execution_count": 18,
   "id": "e38665fb",
   "metadata": {},
   "outputs": [],
   "source": [
    "from torch.utils.data import TensorDataset\n",
    "from torch.utils.data import DataLoader\n",
    "from medil.functional_MCM import sample_from_minMCM\n",
    "from rpy2.robjects.packages import STAP\n",
    "from graph_est.utils import biadj_to_adj\n",
    "import numpy as np\n",
    "import torch\n",
    "from rpy2.robjects import numpy2ri\n",
    "numpy2ri.activate()\n",
    "import pickle"
   ]
  },
  {
   "cell_type": "code",
   "execution_count": 4,
   "id": "eeab036b",
   "metadata": {},
   "outputs": [],
   "source": [
    "num_samps = 1000"
   ]
  },
  {
   "cell_type": "code",
   "execution_count": 5,
   "id": "05023b8e",
   "metadata": {},
   "outputs": [],
   "source": [
    "with open(\"learning/simulateGP.R\", \"r\") as f:\n",
    "    string = f.read()\n",
    "sampleDataFromG = STAP(string, \"sampleDataFromG\")"
   ]
  },
  {
   "cell_type": "code",
   "execution_count": 6,
   "id": "7271de0c",
   "metadata": {},
   "outputs": [],
   "source": [
    "adj_mat = biadj_to_adj(rand_biadj_mat_list[\"0_10_0.3\"])\n",
    "samples_0 = sampleDataFromG.sampleDataFromG(num_samps, adj_mat)"
   ]
  },
  {
   "cell_type": "code",
   "execution_count": 21,
   "id": "49f82029",
   "metadata": {},
   "outputs": [],
   "source": [
    "filehandler = open(\"/Users/mingyu/Desktop/samples_0.pkl\", \"wb\")\n",
    "pickle.dump(samples_0, filehandler)\n",
    "filehandler.close()"
   ]
  },
  {
   "cell_type": "code",
   "execution_count": 7,
   "id": "9046a930",
   "metadata": {},
   "outputs": [],
   "source": [
    "adj_mat = biadj_to_adj(rand_biadj_mat_list[\"1_10_0.3\"])\n",
    "samples_1 = sampleDataFromG.sampleDataFromG(num_samps, adj_mat)"
   ]
  },
  {
   "cell_type": "code",
   "execution_count": 22,
   "id": "fc623fcc",
   "metadata": {},
   "outputs": [],
   "source": [
    "filehandler = open(\"/Users/mingyu/Desktop/samples_1.pkl\", \"wb\")\n",
    "pickle.dump(samples_1, filehandler)\n",
    "filehandler.close()"
   ]
  },
  {
   "cell_type": "code",
   "execution_count": 8,
   "id": "2d248675",
   "metadata": {},
   "outputs": [],
   "source": [
    "adj_mat = biadj_to_adj(rand_biadj_mat_list[\"2_10_0.3\"])\n",
    "samples_2 = sampleDataFromG.sampleDataFromG(num_samps, adj_mat)"
   ]
  },
  {
   "cell_type": "code",
   "execution_count": 23,
   "id": "18d61fe6",
   "metadata": {},
   "outputs": [],
   "source": [
    "filehandler = open(\"/Users/mingyu/Desktop/samples_2.pkl\", \"wb\")\n",
    "pickle.dump(samples_2, filehandler)\n",
    "filehandler.close()"
   ]
  },
  {
   "cell_type": "code",
   "execution_count": 9,
   "id": "4d52f4f0",
   "metadata": {},
   "outputs": [],
   "source": [
    "adj_mat = biadj_to_adj(rand_biadj_mat_list[\"3_10_0.3\"])\n",
    "samples_3 = sampleDataFromG.sampleDataFromG(num_samps, adj_mat)"
   ]
  },
  {
   "cell_type": "code",
   "execution_count": 24,
   "id": "9ff88193",
   "metadata": {},
   "outputs": [],
   "source": [
    "filehandler = open(\"/Users/mingyu/Desktop/samples_3.pkl\", \"wb\")\n",
    "pickle.dump(samples_3, filehandler)\n",
    "filehandler.close()"
   ]
  },
  {
   "cell_type": "code",
   "execution_count": 10,
   "id": "775af828",
   "metadata": {},
   "outputs": [],
   "source": [
    "adj_mat = biadj_to_adj(rand_biadj_mat_list[\"4_10_0.3\"])\n",
    "samples_4 = sampleDataFromG.sampleDataFromG(num_samps, adj_mat)"
   ]
  },
  {
   "cell_type": "code",
   "execution_count": 25,
   "id": "da13a1e8",
   "metadata": {},
   "outputs": [],
   "source": [
    "filehandler = open(\"/Users/mingyu/Desktop/samples_4.pkl\", \"wb\")\n",
    "pickle.dump(samples_4, filehandler)\n",
    "filehandler.close()"
   ]
  },
  {
   "cell_type": "code",
   "execution_count": 11,
   "id": "b709bf23",
   "metadata": {},
   "outputs": [],
   "source": [
    "adj_mat = biadj_to_adj(rand_biadj_mat_list[\"5_10_0.3\"])\n",
    "samples_5 = sampleDataFromG.sampleDataFromG(num_samps, adj_mat)"
   ]
  },
  {
   "cell_type": "code",
   "execution_count": 26,
   "id": "6c64efe0",
   "metadata": {},
   "outputs": [],
   "source": [
    "filehandler = open(\"/Users/mingyu/Desktop/samples_5.pkl\", \"wb\")\n",
    "pickle.dump(samples_5, filehandler)\n",
    "filehandler.close()"
   ]
  },
  {
   "cell_type": "code",
   "execution_count": 12,
   "id": "36f4aaeb",
   "metadata": {},
   "outputs": [],
   "source": [
    "adj_mat = biadj_to_adj(rand_biadj_mat_list[\"6_10_0.3\"])\n",
    "samples_6 = sampleDataFromG.sampleDataFromG(num_samps, adj_mat)"
   ]
  },
  {
   "cell_type": "code",
   "execution_count": 27,
   "id": "79647677",
   "metadata": {},
   "outputs": [],
   "source": [
    "filehandler = open(\"/Users/mingyu/Desktop/samples_6.pkl\", \"wb\")\n",
    "pickle.dump(samples_6, filehandler)\n",
    "filehandler.close()"
   ]
  },
  {
   "cell_type": "code",
   "execution_count": 13,
   "id": "bb25d9f3",
   "metadata": {},
   "outputs": [],
   "source": [
    "adj_mat = biadj_to_adj(rand_biadj_mat_list[\"7_10_0.3\"])\n",
    "samples_7 = sampleDataFromG.sampleDataFromG(num_samps, adj_mat)"
   ]
  },
  {
   "cell_type": "code",
   "execution_count": 28,
   "id": "545e03e8",
   "metadata": {},
   "outputs": [],
   "source": [
    "filehandler = open(\"/Users/mingyu/Desktop/samples_7.pkl\", \"wb\")\n",
    "pickle.dump(samples_7, filehandler)\n",
    "filehandler.close()"
   ]
  },
  {
   "cell_type": "code",
   "execution_count": 14,
   "id": "e880e388",
   "metadata": {},
   "outputs": [],
   "source": [
    "adj_mat = biadj_to_adj(rand_biadj_mat_list[\"8_10_0.3\"])\n",
    "samples_8 = sampleDataFromG.sampleDataFromG(num_samps, adj_mat)"
   ]
  },
  {
   "cell_type": "code",
   "execution_count": 29,
   "id": "605143ee",
   "metadata": {},
   "outputs": [],
   "source": [
    "filehandler = open(\"/Users/mingyu/Desktop/samples_8.pkl\", \"wb\")\n",
    "pickle.dump(samples_8, filehandler)\n",
    "filehandler.close()"
   ]
  },
  {
   "cell_type": "code",
   "execution_count": 15,
   "id": "b12fac3e",
   "metadata": {},
   "outputs": [],
   "source": [
    "adj_mat = biadj_to_adj(rand_biadj_mat_list[\"9_10_0.3\"])\n",
    "samples_9 = sampleDataFromG.sampleDataFromG(num_samps, adj_mat)"
   ]
  },
  {
   "cell_type": "code",
   "execution_count": 30,
   "id": "235b20f0",
   "metadata": {},
   "outputs": [],
   "source": [
    "filehandler = open(\"/Users/mingyu/Desktop/samples_9.pkl\", \"wb\")\n",
    "pickle.dump(samples_9, filehandler)\n",
    "filehandler.close()"
   ]
  },
  {
   "cell_type": "code",
   "execution_count": 31,
   "id": "b36d2ba9",
   "metadata": {},
   "outputs": [
    {
     "data": {
      "text/plain": [
       "VariationalAutoencoder(\n",
       "  (encoder): Encoder(\n",
       "    (enc1): Linear(in_features=7, out_features=7, bias=True)\n",
       "    (enc2): Linear(in_features=7, out_features=7, bias=True)\n",
       "    (fc_mu): Linear(in_features=7, out_features=12, bias=True)\n",
       "    (fc_logvar): Linear(in_features=7, out_features=12, bias=True)\n",
       "  )\n",
       "  (decoder): Decoder(\n",
       "    (dec_mean): SparseLinear(in_features=12, out_features=7, bias=True)\n",
       "    (fc_logcov): SparseLinear(in_features=12, out_features=7, bias=True)\n",
       "  )\n",
       ")"
      ]
     },
     "execution_count": 31,
     "metadata": {},
     "output_type": "execute_result"
    }
   ],
   "source": [
    "import torch\n",
    "model = torch.load(\"/Volumes/SanDisk_2T/MeDIL/data/experiments/experiment_15/Graph_f/redundant/model_recon.pt\")\n",
    "model"
   ]
  },
  {
   "cell_type": "code",
   "execution_count": null,
   "id": "fab4eb8c",
   "metadata": {},
   "outputs": [],
   "source": []
  }
 ],
 "metadata": {
  "kernelspec": {
   "display_name": "Python 3 (ipykernel)",
   "language": "python",
   "name": "python3"
  },
  "language_info": {
   "codemirror_mode": {
    "name": "ipython",
    "version": 3
   },
   "file_extension": ".py",
   "mimetype": "text/x-python",
   "name": "python",
   "nbconvert_exporter": "python",
   "pygments_lexer": "ipython3",
   "version": "3.9.7"
  }
 },
 "nbformat": 4,
 "nbformat_minor": 5
}
