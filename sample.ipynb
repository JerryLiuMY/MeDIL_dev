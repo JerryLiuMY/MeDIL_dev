{
 "cells": [
  {
   "cell_type": "code",
   "execution_count": 2,
   "id": "b36d2ba9",
   "metadata": {},
   "outputs": [
    {
     "data": {
      "text/plain": [
       "VariationalAutoencoder(\n",
       "  (encoder): Encoder(\n",
       "    (enc1): Linear(in_features=7, out_features=7, bias=True)\n",
       "    (enc2): Linear(in_features=7, out_features=7, bias=True)\n",
       "    (fc_mu): Linear(in_features=7, out_features=12, bias=True)\n",
       "    (fc_logvar): Linear(in_features=7, out_features=12, bias=True)\n",
       "  )\n",
       "  (decoder): Decoder(\n",
       "    (dec_mean): SparseLinear(in_features=12, out_features=7, bias=True)\n",
       "    (fc_logcov): SparseLinear(in_features=12, out_features=7, bias=True)\n",
       "  )\n",
       ")"
      ]
     },
     "execution_count": 2,
     "metadata": {},
     "output_type": "execute_result"
    }
   ],
   "source": [
    "import torch\n",
    "model = torch.load(\"/Volumes/SanDisk_2T/MeDIL/data/experiments/experiment_15/Graph_f/redundant/model_recon.pt\")\n",
    "model"
   ]
  },
  {
   "cell_type": "code",
   "execution_count": 13,
   "id": "fab4eb8c",
   "metadata": {},
   "outputs": [],
   "source": [
    "mean = 0\n",
    "std = 1\n",
    "z = torch.normal(mean, std, size=(1, 12))\n",
    "mean, logcov = model.decoder(z)"
   ]
  },
  {
   "cell_type": "code",
   "execution_count": null,
   "id": "327f4c40",
   "metadata": {},
   "outputs": [],
   "source": []
  }
 ],
 "metadata": {
  "kernelspec": {
   "display_name": "Python 3 (ipykernel)",
   "language": "python",
   "name": "python3"
  },
  "language_info": {
   "codemirror_mode": {
    "name": "ipython",
    "version": 3
   },
   "file_extension": ".py",
   "mimetype": "text/x-python",
   "name": "python",
   "nbconvert_exporter": "python",
   "pygments_lexer": "ipython3",
   "version": "3.9.7"
  }
 },
 "nbformat": 4,
 "nbformat_minor": 5
}
